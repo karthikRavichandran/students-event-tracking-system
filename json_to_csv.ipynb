{
 "cells": [
  {
   "cell_type": "code",
   "execution_count": 2,
   "id": "d078c348-fbb8-416e-bdce-8b47b24e4360",
   "metadata": {},
   "outputs": [],
   "source": [
    "import pandas as pd\n",
    "import json\n",
    "#TODO Download data from firebase db. For now im using data directly"
   ]
  },
  {
   "cell_type": "code",
   "execution_count": 9,
   "id": "cd0a27e4-1f7b-4724-87f5-09b76d8a7ef1",
   "metadata": {},
   "outputs": [],
   "source": [
    "\n",
    "#Grade scope\n",
    "json_file_path = './data/gradescope/math314.json'\n",
    "def get_grade_scope_data(json_file_path, student_id = 1001):\n",
    "\n",
    "\n",
    "    with open(json_file_path, 'r') as file:\n",
    "        data = json.load(file)\n",
    "    # data = json.loads('./gradescope/math314.json')\n",
    "    \n",
    "    hws = pd.DataFrame(data['Assignments']).T\n",
    "\n",
    "    stats = pd.DataFrame(data['Grades']).describe().drop(index='count')\n",
    "    score = pd.DataFrame(data['Grades']).T.filter([f'{student_id}'], axis=1)*100\n",
    "    return hws, stats, score\n",
    "hws, stats, score = get_grade_scope_data(json_file_path, student_id=1002)\n"
   ]
  },
  {
   "cell_type": "code",
   "execution_count": 11,
   "id": "518ce7ff-2f0f-4a95-8e0b-16157af47005",
   "metadata": {},
   "outputs": [
    {
     "data": {
      "text/html": [
       "<div>\n",
       "<style scoped>\n",
       "    .dataframe tbody tr th:only-of-type {\n",
       "        vertical-align: middle;\n",
       "    }\n",
       "\n",
       "    .dataframe tbody tr th {\n",
       "        vertical-align: top;\n",
       "    }\n",
       "\n",
       "    .dataframe thead th {\n",
       "        text-align: right;\n",
       "    }\n",
       "</style>\n",
       "<table border=\"1\" class=\"dataframe\">\n",
       "  <thead>\n",
       "    <tr style=\"text-align: right;\">\n",
       "      <th></th>\n",
       "      <th>index</th>\n",
       "      <th>Title</th>\n",
       "      <th>Description</th>\n",
       "      <th>Due Date</th>\n",
       "    </tr>\n",
       "  </thead>\n",
       "  <tbody>\n",
       "    <tr>\n",
       "      <th>0</th>\n",
       "      <td>HW1</td>\n",
       "      <td>Limits Exploration</td>\n",
       "      <td>Explore the concept of limits by examining a v...</td>\n",
       "      <td>2023-09-15</td>\n",
       "    </tr>\n",
       "    <tr>\n",
       "      <th>1</th>\n",
       "      <td>HW2</td>\n",
       "      <td>Derivative Applications in the Real World</td>\n",
       "      <td>Investigate and apply the concept of derivativ...</td>\n",
       "      <td>2023-10-15</td>\n",
       "    </tr>\n",
       "    <tr>\n",
       "      <th>2</th>\n",
       "      <td>HW3</td>\n",
       "      <td>Integration and Area Approximation</td>\n",
       "      <td>Explore the relationship between integration a...</td>\n",
       "      <td>2023-11-15</td>\n",
       "    </tr>\n",
       "    <tr>\n",
       "      <th>3</th>\n",
       "      <td>HW4</td>\n",
       "      <td>Sequences and Series Analysis</td>\n",
       "      <td>Investigate and analyze sequences and series i...</td>\n",
       "      <td>2023-12-15</td>\n",
       "    </tr>\n",
       "  </tbody>\n",
       "</table>\n",
       "</div>"
      ],
      "text/plain": [
       "  index                                      Title  \\\n",
       "0   HW1                         Limits Exploration   \n",
       "1   HW2  Derivative Applications in the Real World   \n",
       "2   HW3         Integration and Area Approximation   \n",
       "3   HW4              Sequences and Series Analysis   \n",
       "\n",
       "                                         Description    Due Date  \n",
       "0  Explore the concept of limits by examining a v...  2023-09-15  \n",
       "1  Investigate and apply the concept of derivativ...  2023-10-15  \n",
       "2  Explore the relationship between integration a...  2023-11-15  \n",
       "3  Investigate and analyze sequences and series i...  2023-12-15  "
      ]
     },
     "execution_count": 11,
     "metadata": {},
     "output_type": "execute_result"
    }
   ],
   "source": [
    "hws.reset_index()."
   ]
  },
  {
   "cell_type": "code",
   "execution_count": 61,
   "id": "5ae04015-d07a-4211-aad3-2548199f4897",
   "metadata": {},
   "outputs": [],
   "source": [
    "# moodle\n",
    "# use json as it is. Use this prompt for LLM: give 100 word summary of this json and include the grade split up \n",
    "json_file_path = './data/moodle/math314.json'\n",
    "\n",
    "#LLM output\n",
    "'''\n",
    "The JSON outlines a Calculus course (MATH 314) focusing on change and motion concepts. \n",
    "It covers limits, derivatives, integrals, and practical applications, emphasizing theoretical foundations \n",
    "and practical usage. Learning objectives include conceptual understanding, problem-solving, analytical skills, \n",
    "technology integration, and critical thinking. The course uses \"Calculus: Early Transcendentals\" by James Stewart \n",
    "as a primary text. Grading comprises homework (20%), two midterms (40%), a final exam (30%), \n",
    "and class participation (10%). The weekly schedule spans topics from limits to sequences and series. \n",
    "Course policies stress attendance, academic integrity, and encourage software tools. \n",
    "The syllabus is subject to instructor discretion, with advance notifications for modifications.\n",
    "'''\n",
    "\n",
    "with open(json_file_path, 'r') as file:\n",
    "    data = json.load(file)"
   ]
  },
  {
   "cell_type": "code",
   "execution_count": null,
   "id": "a67c09c5-582e-4484-b8b1-61a2c5fc4a25",
   "metadata": {},
   "outputs": [],
   "source": []
  },
  {
   "cell_type": "code",
   "execution_count": 12,
   "id": "a3c6ec5a-4c68-44fc-9253-ef8085ee90a5",
   "metadata": {},
   "outputs": [],
   "source": [
    "\n",
    "#LLM output\n",
    "'''\n",
    "The JSON outlines a Calculus course (MATH 314) focusing on change and motion concepts. \n",
    "It covers limits, derivatives, integrals, and practical applications, emphasizing theoretical foundations \n",
    "and practical usage. Learning objectives include conceptual understanding, problem-solving, analytical skills, \n",
    "technology integration, and critical thinking. The course uses \"Calculus: Early Transcendentals\" by James Stewart \n",
    "as a primary text. Grading comprises homework (20%), two midterms (40%), a final exam (30%), \n",
    "and class participation (10%). The weekly schedule spans topics from limits to sequences and series. \n",
    "Course policies stress attendance, academic integrity, and encourage software tools. \n",
    "The syllabus is subject to instructor discretion, with advance notifications for modifications.\n",
    "'''\n",
    "def get_moodle_data(json_file_path, student_id = 1001):\n",
    "    \n",
    "    keys_to_keep = ['Course Title', 'Course Syllabus', 'Grade Breakdown']\n",
    "    \n",
    "    with open(json_file_path, 'r') as file:\n",
    "        data = json.load(file)\n",
    "\n",
    "        # Filtered dictionary using a dictionary comprehension\n",
    "    data_for_llm = {key: data[key] for key in keys_to_keep if key in data}\n",
    "    \n",
    "    if 'Assignments' in data:\n",
    "        moodle_df = pd.DataFrame(data['Assignments']).T\n",
    "    else:\n",
    "        moodle_df = None\n",
    "    if 'Grades' in data:\n",
    "        summary_of_moodle_grade = pd.DataFrame(data['Grades']).describe().drop(index='count')\n",
    "        score = pd.DataFrame(data['Grades']).T.filter([f'{student_id}'], axis=1)*100\n",
    "    else:\n",
    "        summary_of_moodle_grade = None\n",
    "        score = None\n",
    "    \n",
    "    return data_for_llm, moodle_df, summary_of_moodle_grade, score\n",
    "\n",
    "json_file_path = './data/moodle/phys999.json'\n",
    "json_file_path = './data/moodle/math314.json'\n",
    "json_file_path = './data/moodle/lang101.json'\n",
    "data_for_llm, moodle_df, summary_of_moodle_grade, score = get_moodle_data(json_file_path)"
   ]
  },
  {
   "cell_type": "code",
   "execution_count": 14,
   "id": "d402b632-0469-40c0-95c5-195fbd450444",
   "metadata": {},
   "outputs": [
    {
     "data": {
      "text/plain": [
       "{'Course Title': 'Introduction to Old English',\n",
       " 'Course Syllabus': 'Course Title: LANG 101 - Introduction to Old English\\nInstructor: [Your Name]\\nEmail: [Your Email Address]\\nOffice Hours: [Days and Times]\\nClass Location: [Room Number]\\nClass Time: [Days and Times]\\nCourse Description:\\nThis course serves as an introduction to Old English, the earliest form of the English language spoken and written in parts of what are now England and southern Scotland between the 5th and 11th centuries. Students will explore the linguistic, literary, and cultural aspects of Old English, gaining a foundational understanding of the language\\'s grammar, vocabulary, and historical context.\\nLearning Objectives:\\nLinguistic Competence: Develop a basic understanding of Old English grammar, syntax, and vocabulary.\\nLiterary Analysis: Analyze and interpret selected Old English texts, including poetry and prose.\\nCultural Context: Gain insight into the historical and cultural background of the Anglo-Saxon period.\\nTranslation Skills: Acquire the ability to translate simple Old English passages into modern English.\\nCritical Thinking: Develop critical thinking skills through the examination of linguistic and literary concepts.\\nTexts:\\n\"Beowulf\" (Author unknown, translated by Seamus Heaney)\\n\"A Guide to Old English\" by Bruce Mitchell and Fred C. Robinson\\nSelected Old English Poems and Prose\\nGrading:\\nHomework: 30%\\nMidterm Exam: 20%\\nFinal Exam: 30%\\nResearch Project: 20%\\nWeekly Schedule:\\nWeek 1-2: Introduction to Old English\\nHistorical and cultural context\\nOverview of Old English grammar and pronunciation\\nWeek 3-5: Old English Vocabulary and Nouns\\nVocabulary building exercises\\nIntroduction to Old English nouns and noun declensions\\nWeek 6-8: Verbs and Syntax\\nVerbal conjugations and tenses\\nSentence structure and syntax in Old English\\nWeek 9-11: Literary Analysis\\nClose reading of Old English poetry\\nExploration of poetic devices in Old English literature\\nWeek 12-14: Prose and Historical Texts\\nReading and analysis of Old English prose texts\\nHistorical documents and their significance\\nWeek 15: Final Exam Review\\nResearch Project:\\nStudents will choose a topic related to Old English language, literature, or culture for a research project. The project will include a written paper and an oral presentation.\\nCourse Policies:\\nRegular attendance is expected.\\nLate assignments will be penalized.\\nPlagiarism will not be tolerated and will result in severe consequences.\\nNote:\\nThis syllabus is subject to change at the discretion of the instructor. Students will be notified of any modifications in advance.',\n",
       " 'Grade Breakdown': {'Homework': 0.3,\n",
       "  'Midterm': 0.2,\n",
       "  'Final': 0.3,\n",
       "  'Research Project': 0.2}}"
      ]
     },
     "execution_count": 14,
     "metadata": {},
     "output_type": "execute_result"
    }
   ],
   "source": [
    "data_for_llm"
   ]
  },
  {
   "cell_type": "code",
   "execution_count": 7,
   "id": "6e7dc19a-926e-4100-a760-d11a6dc59b53",
   "metadata": {},
   "outputs": [
    {
     "data": {
      "text/plain": [
       "\"Hello everyone! I've been pondering over the use of the word 'shall' in Old English texts. It seems to carry different meanings in various contexts. Does anyone have insights or opinions on its definition in the readings we've covered so far?\""
      ]
     },
     "execution_count": 7,
     "metadata": {},
     "output_type": "execute_result"
    }
   ],
   "source": [
    "#Piazza data\n",
    "\n",
    "# data['Topics']\n",
    "\n",
    "def convert_piazzajson_to_csv(json_file_path):\n",
    "    with open(json_file_path, 'r') as file:\n",
    "        data = json.load(file)\n",
    "    title = []\n",
    "    topic = []\n",
    "    poster = []\n",
    "    poster_date = []\n",
    "    body = []\n",
    "    body = []\n",
    "    follow_up_1 = []\n",
    "    follow_up_2 = []\n",
    "    follow_up_3 = []\n",
    "    follow_up_4 = []\n",
    "    if isinstance(data, list): \n",
    "        json_data = data[0]['Posts']\n",
    "    else:\n",
    "        json_data = data['Posts']\n",
    "    for i in json_data: # or data['Posts'] - for \n",
    "        title.append(i['Title'])\n",
    "        topic.append(i['Topic'])\n",
    "        poster.append(i['Poster'])\n",
    "        poster_date.append(i['Post Date'])\n",
    "        body.append(i['Body'])\n",
    "        follow_up_1.append(i['Followups'][0]['Body'])\n",
    "        try: \n",
    "            follow_up_2.append(i['Followups'][1]['Body'])\n",
    "        except:\n",
    "            follow_up_2.append(None)\n",
    "        try: \n",
    "            follow_up_3.append(i['Followups'][2]['Body'])\n",
    "        except:\n",
    "            follow_up_3.append(None)\n",
    "        try: \n",
    "            follow_up_4.append(i['Followups'][3]['Body'])\n",
    "        except:\n",
    "            follow_up_4.append(None)\n",
    "        \n",
    "    df = pd.DataFrame({\n",
    "        'title': title,\n",
    "        'topic': topic,\n",
    "        'poster': poster,\n",
    "        'poster_date': poster_date,\n",
    "        'body': body,\n",
    "        'follow_up_1': follow_up_1,\n",
    "        'follow_up_2': follow_up_2,\n",
    "        'follow_up_3': follow_up_3,\n",
    "        'follow_up_4': follow_up_4\n",
    "    })\n",
    "\n",
    "    return df\n",
    "json_file_path = './data/piazza/lang101.json'\n",
    "convert_piazzajson_to_csv(json_file_path)['body'].iloc[10]"
   ]
  }
 ],
 "metadata": {
  "kernelspec": {
   "display_name": "Python 3 (ipykernel)",
   "language": "python",
   "name": "python3"
  },
  "language_info": {
   "codemirror_mode": {
    "name": "ipython",
    "version": 3
   },
   "file_extension": ".py",
   "mimetype": "text/x-python",
   "name": "python",
   "nbconvert_exporter": "python",
   "pygments_lexer": "ipython3",
   "version": "3.11.5"
  }
 },
 "nbformat": 4,
 "nbformat_minor": 5
}
