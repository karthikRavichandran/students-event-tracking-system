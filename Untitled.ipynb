{
 "cells": [
  {
   "cell_type": "code",
   "execution_count": 6,
   "id": "09e43260-5538-4db7-a91e-976de0d24cea",
   "metadata": {},
   "outputs": [],
   "source": [
    "import pandas as pd\n",
    "DashB = pd.DataFrame({\"Event\": ['CS520', 'CS646', 'CS670', 'CS520'],\n",
    "        \"Description\": ['HW1', 'Project Proposal', 'Quiz 3', 'Mid-Term'],\n",
    "        \"summary\": ['Git commands and collaborations', 'Understanding LLM and project proposal', 'Testing and Validation', 'Chapter 1 to Chapter 7'],\n",
    "        \"Due in\": [3, 7, 4, 5],\n",
    "        \"Avg. Scores (%)\": ['89', '90', '78', '89'],\n",
    "        \"Critical Level\": ['High', 'Low', 'Very-High', 'Low']})"
   ]
  },
  {
   "cell_type": "code",
   "execution_count": 7,
   "id": "861db817-5448-43b9-b8b9-6ccf92c17bcf",
   "metadata": {},
   "outputs": [
    {
     "data": {
      "text/html": [
       "<div>\n",
       "<style scoped>\n",
       "    .dataframe tbody tr th:only-of-type {\n",
       "        vertical-align: middle;\n",
       "    }\n",
       "\n",
       "    .dataframe tbody tr th {\n",
       "        vertical-align: top;\n",
       "    }\n",
       "\n",
       "    .dataframe thead th {\n",
       "        text-align: right;\n",
       "    }\n",
       "</style>\n",
       "<table border=\"1\" class=\"dataframe\">\n",
       "  <thead>\n",
       "    <tr style=\"text-align: right;\">\n",
       "      <th></th>\n",
       "      <th>Event</th>\n",
       "      <th>Description</th>\n",
       "      <th>summary</th>\n",
       "      <th>Due in</th>\n",
       "      <th>Avg. Scores (%)</th>\n",
       "      <th>Critical Level</th>\n",
       "    </tr>\n",
       "  </thead>\n",
       "  <tbody>\n",
       "    <tr>\n",
       "      <th>0</th>\n",
       "      <td>CS520</td>\n",
       "      <td>HW1</td>\n",
       "      <td>Git commands and collaborations</td>\n",
       "      <td>3</td>\n",
       "      <td>89</td>\n",
       "      <td>High</td>\n",
       "    </tr>\n",
       "    <tr>\n",
       "      <th>1</th>\n",
       "      <td>CS646</td>\n",
       "      <td>Project Proposal</td>\n",
       "      <td>Understanding LLM and project proposal</td>\n",
       "      <td>7</td>\n",
       "      <td>90</td>\n",
       "      <td>Low</td>\n",
       "    </tr>\n",
       "    <tr>\n",
       "      <th>2</th>\n",
       "      <td>CS670</td>\n",
       "      <td>Quiz 3</td>\n",
       "      <td>Testing and Validation</td>\n",
       "      <td>4</td>\n",
       "      <td>78</td>\n",
       "      <td>Very-High</td>\n",
       "    </tr>\n",
       "    <tr>\n",
       "      <th>3</th>\n",
       "      <td>CS520</td>\n",
       "      <td>Mid-Term</td>\n",
       "      <td>Chapter 1 to Chapter 7</td>\n",
       "      <td>5</td>\n",
       "      <td>89</td>\n",
       "      <td>Low</td>\n",
       "    </tr>\n",
       "  </tbody>\n",
       "</table>\n",
       "</div>"
      ],
      "text/plain": [
       "   Event       Description                                 summary  Due in  \\\n",
       "0  CS520               HW1         Git commands and collaborations       3   \n",
       "1  CS646  Project Proposal  Understanding LLM and project proposal       7   \n",
       "2  CS670            Quiz 3                  Testing and Validation       4   \n",
       "3  CS520          Mid-Term                  Chapter 1 to Chapter 7       5   \n",
       "\n",
       "  Avg. Scores (%) Critical Level  \n",
       "0              89           High  \n",
       "1              90            Low  \n",
       "2              78      Very-High  \n",
       "3              89            Low  "
      ]
     },
     "execution_count": 7,
     "metadata": {},
     "output_type": "execute_result"
    }
   ],
   "source": [
    "DashB"
   ]
  }
 ],
 "metadata": {
  "kernelspec": {
   "display_name": "Python 3 (ipykernel)",
   "language": "python",
   "name": "python3"
  },
  "language_info": {
   "codemirror_mode": {
    "name": "ipython",
    "version": 3
   },
   "file_extension": ".py",
   "mimetype": "text/x-python",
   "name": "python",
   "nbconvert_exporter": "python",
   "pygments_lexer": "ipython3",
   "version": "3.11.5"
  }
 },
 "nbformat": 4,
 "nbformat_minor": 5
}
